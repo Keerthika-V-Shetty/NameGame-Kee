{
  "nbformat": 4,
  "nbformat_minor": 0,
  "metadata": {
    "kernelspec": {
      "name": "python3",
      "display_name": "Python 3",
      "language": "python"
    },
    "language_info": {
      "name": "python",
      "version": "3.6.7",
      "mimetype": "text/x-python",
      "codemirror_mode": {
        "name": "ipython",
        "version": 3
      },
      "pygments_lexer": "ipython3",
      "nbconvert_exporter": "python",
      "file_extension": ".py"
    },
    "colab": {
      "name": "Copy of notebook.ipynb",
      "provenance": [],
      "collapsed_sections": [],
      "include_colab_link": true
    }
  },
  "cells": [
    {
      "cell_type": "markdown",
      "metadata": {
        "id": "view-in-github",
        "colab_type": "text"
      },
      "source": [
        "<a href=\"https://colab.research.google.com/github/Keerthika-V-Shetty/NameGame-Kee/blob/master/Copy_of_notebook.ipynb\" target=\"_parent\"><img src=\"https://colab.research.google.com/assets/colab-badge.svg\" alt=\"Open In Colab\"/></a>"
      ]
    },
    {
      "cell_type": "code",
      "metadata": {
        "id": "Cu9A6a9iNSu2",
        "colab_type": "code",
        "colab": {
          "base_uri": "https://localhost:8080/",
          "height": 170
        },
        "outputId": "5ef8b5a0-a60e-49fc-a6b9-6e2d580df256"
      },
      "source": [
        "!pip install Fuzzy"
      ],
      "execution_count": null,
      "outputs": [
        {
          "output_type": "stream",
          "text": [
            "Collecting Fuzzy\n",
            "  Downloading https://files.pythonhosted.org/packages/ad/b0/210f790e81e3c9f86a740f5384c758ad6c7bc1958332cf64263a9d3cf336/Fuzzy-1.2.2.tar.gz\n",
            "Building wheels for collected packages: Fuzzy\n",
            "  Building wheel for Fuzzy (setup.py) ... \u001b[?25l\u001b[?25hdone\n",
            "  Created wheel for Fuzzy: filename=Fuzzy-1.2.2-cp36-cp36m-linux_x86_64.whl size=160965 sha256=3b99b463974c1056e7ab1915424b3875963cf1a74bf90ca92be9ff0c4421ed6f\n",
            "  Stored in directory: /root/.cache/pip/wheels/79/f7/14/b7e20855729780e85322529469b2d1eadfd940e83d981373cc\n",
            "Successfully built Fuzzy\n",
            "Installing collected packages: Fuzzy\n",
            "Successfully installed Fuzzy-1.2.2\n"
          ],
          "name": "stdout"
        }
      ]
    },
    {
      "cell_type": "markdown",
      "metadata": {
        "dc": {
          "key": "3"
        },
        "deletable": false,
        "editable": false,
        "run_control": {
          "frozen": true
        },
        "tags": [
          "context"
        ],
        "id": "-fJg3cR3MhBR",
        "colab_type": "text"
      },
      "source": [
        "## 1. Sound it out!\n",
        "<p>Grey and Gray. Colour and Color. Words like these have been the cause of many heated arguments between Brits and Americans. Accents (and jokes) aside, there are many words that are pronounced the same way but have different spellings. While it is easy for us to realize their equivalence, basic programming commands will fail to equate such two strings. </p>\n",
        "<p>More extreme than word spellings are names because people have more flexibility in choosing to spell a name in a certain way. To some extent, tradition sometimes governs the way a name is spelled, which limits the number of variations of any given English name. But if we consider global names and their associated English spellings, you can only imagine how many ways they can be spelled out. </p>\n",
        "<p>One way to tackle this challenge is to write a program that checks if two strings sound the same, instead of checking for equivalence in spellings. We'll do that here using fuzzy name matching.</p>"
      ]
    },
    {
      "cell_type": "code",
      "metadata": {
        "dc": {
          "key": "3"
        },
        "tags": [
          "sample_code"
        ],
        "id": "qN_VOOZQMhBS",
        "colab_type": "code",
        "colab": {
          "base_uri": "https://localhost:8080/",
          "height": 35
        },
        "outputId": "1c275f6a-14df-4d23-e852-4148dfba116a"
      },
      "source": [
        "# Importing the fuzzy package\n",
        "# ... YOUR CODE FOR TASK 1 ...\n",
        "import fuzzy \n",
        "# Exploring the output of fuzzy.nysiis\n",
        "# ... YOUR CODE FOR TASK 1 ...\n",
        "fuzzy.nysiis('smith')\n",
        "# Testing equivalence of similar sounding words\n",
        "# ... YOUR CODE FOR TASK 1 ...\n",
        "fuzzy.nysiis('smyth')"
      ],
      "execution_count": null,
      "outputs": [
        {
          "output_type": "execute_result",
          "data": {
            "application/vnd.google.colaboratory.intrinsic+json": {
              "type": "string"
            },
            "text/plain": [
              "'SNATH'"
            ]
          },
          "metadata": {
            "tags": []
          },
          "execution_count": 3
        }
      ]
    },
    {
      "cell_type": "markdown",
      "metadata": {
        "dc": {
          "key": "10"
        },
        "deletable": false,
        "editable": false,
        "run_control": {
          "frozen": true
        },
        "tags": [
          "context"
        ],
        "id": "PbpAJuA3MhBX",
        "colab_type": "text"
      },
      "source": [
        "## 2. Authoring the authors\n",
        "<p>The New York Times puts out a weekly list of best-selling books from different genres, and which has been published since the 1930’s.  We’ll focus on Children’s Picture Books, and analyze the gender distribution of authors to see if there have been changes over time. We'll begin by reading in the data on the best selling authors from 2008 to 2017.</p>"
      ]
    },
    {
      "cell_type": "code",
      "metadata": {
        "dc": {
          "key": "10"
        },
        "tags": [
          "sample_code"
        ],
        "id": "oeNs-qNtMhBX",
        "colab_type": "code",
        "colab": {},
        "outputId": "c2b5dc73-d8cc-4c73-ad6a-7631dee2e518"
      },
      "source": [
        "# Importing the pandas module\n",
        "import pandas as pd\n",
        "\n",
        "# Reading in datasets/nytkids_yearly.csv, which is semicolon delimited.\n",
        "author_df = pd.read_csv('datasets/nytkids_yearly.csv',delimiter=';')\n",
        "\n",
        "# Looping through author_df['Author'] to extract the authors first names\n",
        "first_name = []\n",
        "for name in author_df['Author']:\n",
        "    first_name.append(name.split()[0])\n",
        "\n",
        "# Adding first_name as a column to author_df\n",
        "author_df['first_name'] = first_name\n",
        "\n",
        "# Checking out the first few rows of author_df\n",
        "author_df.head()"
      ],
      "execution_count": null,
      "outputs": [
        {
          "output_type": "execute_result",
          "data": {
            "text/plain": [
              "   Year                        Book Title                 Author  \\\n",
              "0  2017                DRAGONS LOVE TACOS             Adam Rubin   \n",
              "1  2017  THE WONDERFUL THINGS YOU WILL BE  Emily Winfield Martin   \n",
              "2  2017          THE DAY THE CRAYONS QUIT           Drew Daywalt   \n",
              "3  2017            ROSIE REVERE, ENGINEER           Andrea Beaty   \n",
              "4  2017              ADA TWIST, SCIENTIST           Andrea Beaty   \n",
              "\n",
              "   Besteller this year first_name  \n",
              "0                   49       Adam  \n",
              "1                   48      Emily  \n",
              "2                   44       Drew  \n",
              "3                   38     Andrea  \n",
              "4                   28     Andrea  "
            ],
            "text/html": [
              "<div>\n",
              "<style scoped>\n",
              "    .dataframe tbody tr th:only-of-type {\n",
              "        vertical-align: middle;\n",
              "    }\n",
              "\n",
              "    .dataframe tbody tr th {\n",
              "        vertical-align: top;\n",
              "    }\n",
              "\n",
              "    .dataframe thead th {\n",
              "        text-align: right;\n",
              "    }\n",
              "</style>\n",
              "<table border=\"1\" class=\"dataframe\">\n",
              "  <thead>\n",
              "    <tr style=\"text-align: right;\">\n",
              "      <th></th>\n",
              "      <th>Year</th>\n",
              "      <th>Book Title</th>\n",
              "      <th>Author</th>\n",
              "      <th>Besteller this year</th>\n",
              "      <th>first_name</th>\n",
              "    </tr>\n",
              "  </thead>\n",
              "  <tbody>\n",
              "    <tr>\n",
              "      <th>0</th>\n",
              "      <td>2017</td>\n",
              "      <td>DRAGONS LOVE TACOS</td>\n",
              "      <td>Adam Rubin</td>\n",
              "      <td>49</td>\n",
              "      <td>Adam</td>\n",
              "    </tr>\n",
              "    <tr>\n",
              "      <th>1</th>\n",
              "      <td>2017</td>\n",
              "      <td>THE WONDERFUL THINGS YOU WILL BE</td>\n",
              "      <td>Emily Winfield Martin</td>\n",
              "      <td>48</td>\n",
              "      <td>Emily</td>\n",
              "    </tr>\n",
              "    <tr>\n",
              "      <th>2</th>\n",
              "      <td>2017</td>\n",
              "      <td>THE DAY THE CRAYONS QUIT</td>\n",
              "      <td>Drew Daywalt</td>\n",
              "      <td>44</td>\n",
              "      <td>Drew</td>\n",
              "    </tr>\n",
              "    <tr>\n",
              "      <th>3</th>\n",
              "      <td>2017</td>\n",
              "      <td>ROSIE REVERE, ENGINEER</td>\n",
              "      <td>Andrea Beaty</td>\n",
              "      <td>38</td>\n",
              "      <td>Andrea</td>\n",
              "    </tr>\n",
              "    <tr>\n",
              "      <th>4</th>\n",
              "      <td>2017</td>\n",
              "      <td>ADA TWIST, SCIENTIST</td>\n",
              "      <td>Andrea Beaty</td>\n",
              "      <td>28</td>\n",
              "      <td>Andrea</td>\n",
              "    </tr>\n",
              "  </tbody>\n",
              "</table>\n",
              "</div>"
            ]
          },
          "metadata": {
            "tags": []
          },
          "execution_count": 378
        }
      ]
    },
    {
      "cell_type": "markdown",
      "metadata": {
        "dc": {
          "key": "17"
        },
        "deletable": false,
        "editable": false,
        "run_control": {
          "frozen": true
        },
        "tags": [
          "context"
        ],
        "id": "fCncsDx3MhBb",
        "colab_type": "text"
      },
      "source": [
        "## 3. It's time to bring on the phonics... _again_!\n",
        "<p>When we were young children, we were taught to read using phonics; sounding out the letters that compose words. So let's relive history and do that again, but using python this time. We will now create a new column or list that contains the phonetic equivalent of every first name that we just extracted. </p>\n",
        "<p>To make sure we're on the right track, let's compare the number of unique values in the <code>first_name</code> column and the number of unique values in the nysiis coded column. As a rule of thumb, the number of unique nysiis first names should be less than or equal to the number of actual first names.</p>"
      ]
    },
    {
      "cell_type": "code",
      "metadata": {
        "dc": {
          "key": "17"
        },
        "tags": [
          "sample_code"
        ],
        "id": "XQiKlG4fMhBc",
        "colab_type": "code",
        "colab": {},
        "outputId": "dfa4e222-8005-413d-e8c2-f3d9b4e37516"
      },
      "source": [
        "# Importing numpy\n",
        "import numpy as np\n",
        "\n",
        "# Looping through author's first names to create the nysiis (fuzzy) equivalent\n",
        "nysiis_name = []\n",
        "\n",
        "for name in first_name:\n",
        "    nysiis_name.append(fuzzy.nysiis(name))\n",
        "\n",
        "# Adding nysiis_name as a column to author_df\n",
        "author_df['nysiis_name']=nysiis_name\n",
        "print(author_df.head())\n",
        "\n",
        "# Printing out the difference between unique firstnames and unique nysiis_names:\n",
        "print(\"\\n The difference between unique firstnames and unique nysiis names is:\" ,len(np.unique(first_name)) - len(np.unique(nysiis_name)))"
      ],
      "execution_count": null,
      "outputs": [
        {
          "output_type": "stream",
          "text": [
            "   Year                        Book Title                 Author  \\\n",
            "0  2017                DRAGONS LOVE TACOS             Adam Rubin   \n",
            "1  2017  THE WONDERFUL THINGS YOU WILL BE  Emily Winfield Martin   \n",
            "2  2017          THE DAY THE CRAYONS QUIT           Drew Daywalt   \n",
            "3  2017            ROSIE REVERE, ENGINEER           Andrea Beaty   \n",
            "4  2017              ADA TWIST, SCIENTIST           Andrea Beaty   \n",
            "\n",
            "   Besteller this year first_name nysiis_name  \n",
            "0                   49       Adam        ADAN  \n",
            "1                   48      Emily       ENALY  \n",
            "2                   44       Drew          DR  \n",
            "3                   38     Andrea        ANDR  \n",
            "4                   28     Andrea        ANDR  \n",
            "\n",
            " The difference between unique firstnames and unique nysiis names is: 25\n"
          ],
          "name": "stdout"
        }
      ]
    },
    {
      "cell_type": "markdown",
      "metadata": {
        "dc": {
          "key": "24"
        },
        "deletable": false,
        "editable": false,
        "run_control": {
          "frozen": true
        },
        "tags": [
          "context"
        ],
        "id": "fF1SFfCLMhBg",
        "colab_type": "text"
      },
      "source": [
        "## 4. The inbetweeners\n",
        "<p>We'll use <code>babynames_nysiis.csv</code>, a dataset that is derived from <a href=\"https://www.ssa.gov/oact/babynames/limits.html\">the Social Security Administration’s baby name data</a>, to identify author genders. The dataset contains unique NYSIIS versions of baby names, and also includes the percentage of times the name appeared as a female name (<code>perc_female</code>) and the percentage of times it appeared as a male name (<code>perc_male</code>). </p>\n",
        "<p>We'll use this data to create a list of <code>gender</code>. Let's make the following simplifying assumption: For each name, if <code>perc_female</code> is greater than <code>perc_male</code> then assume the name is female, if <code>perc_female</code> is less than <code>perc_male</code> then assume it is a male name, and if the percentages are equal then it's a \"neutral\" name.</p>"
      ]
    },
    {
      "cell_type": "code",
      "metadata": {
        "dc": {
          "key": "24"
        },
        "tags": [
          "sample_code"
        ],
        "id": "8rpcRvRoMhBg",
        "colab_type": "code",
        "colab": {},
        "outputId": "bb7a1573-74ce-47d0-f028-baccf1be2084"
      },
      "source": [
        "# Reading in datasets/babynames_nysiis.csv, which is semicolon delimited.\n",
        "babies_df = pd.read_csv('datasets/babynames_nysiis.csv', delimiter=';')\n",
        "\n",
        "# Looping through babies_df to and filling up gender\n",
        "gender = []\n",
        "\n",
        "for i in babies_df.index:\n",
        "    if(babies_df['perc_female'][i] == babies_df['perc_male'][i]):\n",
        "        gender.append('N')\n",
        "    elif (babies_df['perc_female'][i] > babies_df['perc_male'][i]):\n",
        "        gender.append('F')\n",
        "    else:\n",
        "        gender.append('M')\n",
        "# Adding a gender column to babies_df\n",
        "babies_df['gender'] = gender\n",
        "\n",
        "# Printing out the first few rows of babies_df\n",
        "print(babies_df.head())"
      ],
      "execution_count": null,
      "outputs": [
        {
          "output_type": "stream",
          "text": [
            "  babynysiis  perc_female  perc_male gender\n",
            "0        NaN        62.50      37.50      F\n",
            "1        RAX        63.64      36.36      F\n",
            "2       ESAR        44.44      55.56      M\n",
            "3      DJANG         0.00     100.00      M\n",
            "4     PARCAL        25.00      75.00      M\n"
          ],
          "name": "stdout"
        }
      ]
    },
    {
      "cell_type": "markdown",
      "metadata": {
        "dc": {
          "key": "31"
        },
        "deletable": false,
        "editable": false,
        "run_control": {
          "frozen": true
        },
        "tags": [
          "context"
        ],
        "id": "CEt5KnS-MhBk",
        "colab_type": "text"
      },
      "source": [
        "## 5. Playing matchmaker\n",
        "<p>Now that we have identified the likely genders of different names, let's find author genders by searching for each author's name in the <code>babies_df</code> DataFrame, and extracting the associated gender. </p>"
      ]
    },
    {
      "cell_type": "code",
      "metadata": {
        "dc": {
          "key": "31"
        },
        "tags": [
          "sample_code"
        ],
        "id": "dgdNoywQMhBk",
        "colab_type": "code",
        "colab": {},
        "outputId": "092b5c40-2e1b-4295-b65c-8f3300725423"
      },
      "source": [
        "# This function returns the location of an element in a_list.\n",
        "# Where an item does not exist, it returns -1.\n",
        "def locate_in_list(a_list, element):\n",
        "    loc_of_name = a_list.index(element) if element in a_list else -1\n",
        "    return(loc_of_name)\n",
        "\n",
        "# Looping through author_df['nysiis_name'] and appending the gender of each\n",
        "# author to author_gender.\n",
        "author_gender = []\n",
        "\n",
        "for name in author_df['nysiis_name']:\n",
        "    index= locate_in_list(list(babies_df['babynysiis']),name)\n",
        "    if index>-1:\n",
        "        author_gender.append(babies_df.loc[index]['gender'])\n",
        "    else:\n",
        "        author_gender.append('Unknown')\n",
        "\n",
        "# Adding author_gender to the author_df\n",
        "author_df['author_gender']=author_gender\n",
        "print(author_df.head())\n",
        "\n",
        "# Counting the author's genders\n",
        "author_df['author_gender'].count()"
      ],
      "execution_count": null,
      "outputs": [
        {
          "output_type": "stream",
          "text": [
            "   Year                        Book Title                 Author  \\\n",
            "0  2017                DRAGONS LOVE TACOS             Adam Rubin   \n",
            "1  2017  THE WONDERFUL THINGS YOU WILL BE  Emily Winfield Martin   \n",
            "2  2017          THE DAY THE CRAYONS QUIT           Drew Daywalt   \n",
            "3  2017            ROSIE REVERE, ENGINEER           Andrea Beaty   \n",
            "4  2017              ADA TWIST, SCIENTIST           Andrea Beaty   \n",
            "\n",
            "   Besteller this year first_name nysiis_name author_gender  \n",
            "0                   49       Adam        ADAN             M  \n",
            "1                   48      Emily       ENALY             F  \n",
            "2                   44       Drew          DR             M  \n",
            "3                   38     Andrea        ANDR             M  \n",
            "4                   28     Andrea        ANDR             M  \n"
          ],
          "name": "stdout"
        },
        {
          "output_type": "execute_result",
          "data": {
            "text/plain": [
              "603"
            ]
          },
          "metadata": {
            "tags": []
          },
          "execution_count": 384
        }
      ]
    },
    {
      "cell_type": "markdown",
      "metadata": {
        "dc": {
          "key": "38"
        },
        "deletable": false,
        "editable": false,
        "run_control": {
          "frozen": true
        },
        "tags": [
          "context"
        ],
        "id": "DAtd9XU8MhBn",
        "colab_type": "text"
      },
      "source": [
        "## 6. Tally up\n",
        "<p>From the results above see that there are more female authors on the New York Times best seller's list than male authors. Our dataset spans 2008 to 2017. Let's find out if there have been changes over time.</p>"
      ]
    },
    {
      "cell_type": "code",
      "metadata": {
        "dc": {
          "key": "38"
        },
        "tags": [
          "sample_code"
        ],
        "id": "dB9y5mFcMhBo",
        "colab_type": "code",
        "colab": {},
        "outputId": "6d00d832-4cf3-4072-8191-26b1eccfd9e1"
      },
      "source": [
        "# Creating a list of unique years, sorted in ascending order.\n",
        "years = author_df['Year'].sort_values().unique()\n",
        "\n",
        "# Initializing lists\n",
        "males_by_yr = []\n",
        "females_by_yr = []\n",
        "unknown_by_yr = []\n",
        "\n",
        "# Looping through years to find the number of male, female and unknown authors per year\n",
        "for year in years:\n",
        "    females_by_yr.append(len(author_df[(author_df['author_gender']=='F')&(author_df['Year']==year)]))\n",
        "    males_by_yr.append(len(author_df[(author_df['author_gender']=='M')&(author_df['Year']==year)]))\n",
        "    unknown_by_yr.append(len(author_df[(author_df['author_gender']!='M')&(author_df['author_gender']!='F')&(author_df['Year']==year)]))\n",
        "\n",
        "# Printing out yearly values to examine changes over time\n",
        "print(females_by_yr)\n",
        "print(males_by_yr)\n",
        "print(unknown_by_yr)\n",
        "data = np.array([males_by_yr,females_by_yr,unknown_by_yr])\n",
        "headers=['males', 'females','unknowns']\n",
        "print(pd.DataFrame(data,headers,years))"
      ],
      "execution_count": null,
      "outputs": [
        {
          "output_type": "stream",
          "text": [
            "[15, 45, 48, 51, 46, 51, 34, 30, 32, 43]\n",
            "[8, 19, 27, 21, 21, 11, 21, 18, 25, 20]\n",
            "[2, 3, 1, 2, 2, 3, 2, 0, 1, 1]\n",
            "          2008  2009  2010  2011  2012  2013  2014  2015  2016  2017\n",
            "males        8    19    27    21    21    11    21    18    25    20\n",
            "females     15    45    48    51    46    51    34    30    32    43\n",
            "unknowns     2     3     1     2     2     3     2     0     1     1\n"
          ],
          "name": "stdout"
        }
      ]
    },
    {
      "cell_type": "markdown",
      "metadata": {
        "dc": {
          "key": "45"
        },
        "deletable": false,
        "editable": false,
        "run_control": {
          "frozen": true
        },
        "tags": [
          "context"
        ],
        "id": "ogEWLwitMhBr",
        "colab_type": "text"
      },
      "source": [
        "## 7. Foreign-born authors?\n",
        "<p>Our gender data comes from social security applications of individuals born in the US. Hence, one possible explanation for why there are \"unknown\" genders associated with some author names is because these authors were foreign-born. While making this assumption, we should note that these are only a subset of foreign-born authors as others will have names that have a match in <code>baby_df</code> (and in the social security dataset). </p>\n",
        "<p>Using a bar chart, let's explore the trend of foreign-born authors with no name matches in the social security dataset.</p>"
      ]
    },
    {
      "cell_type": "code",
      "metadata": {
        "dc": {
          "key": "45"
        },
        "tags": [
          "sample_code"
        ],
        "id": "GlPlVNiMMhBs",
        "colab_type": "code",
        "colab": {},
        "outputId": "dfd22fc9-67a2-4459-892a-9562805093cd"
      },
      "source": [
        "# Importing matplotlib\n",
        "import matplotlib.pyplot as plt\n",
        "\n",
        "# This makes plots appear in the notebook\n",
        "%matplotlib inline\n",
        "\n",
        "# Plotting the bar chart\n",
        "plt.bar(years,unknown_by_yr)\n",
        "\n",
        "plt.title('Unknown By Year')\n",
        "plt.xlabel('Years')\n",
        "plt.ylabel('Count')"
      ],
      "execution_count": null,
      "outputs": [
        {
          "output_type": "execute_result",
          "data": {
            "text/plain": [
              "Text(0,0.5,'Count')"
            ]
          },
          "metadata": {
            "tags": []
          },
          "execution_count": 388
        },
        {
          "output_type": "display_data",
          "data": {
            "text/plain": [
              "<matplotlib.figure.Figure at 0x7fd49a340e10>"
            ],
            "image/png": "[encoded data removed]"
          },
          "metadata": {
            "tags": [],
            "needs_background": "light"
          }
        }
      ]
    },
    {
      "cell_type": "markdown",
      "metadata": {
        "dc": {
          "key": "52"
        },
        "deletable": false,
        "editable": false,
        "run_control": {
          "frozen": true
        },
        "tags": [
          "context"
        ],
        "id": "ecHgZ_cBMhBv",
        "colab_type": "text"
      },
      "source": [
        "## 8. Raising the bar\n",
        "<p>What’s more exciting than a bar chart is a grouped bar chart. This type of chart is good for displaying <em>changes</em> over time while also <em>comparing</em> two or more groups. Let’s use a grouped bar chart to look at the distribution of male and female authors over time.</p>"
      ]
    },
    {
      "cell_type": "code",
      "metadata": {
        "dc": {
          "key": "52"
        },
        "tags": [
          "sample_code"
        ],
        "id": "xOO43hwbMhBw",
        "colab_type": "code",
        "colab": {},
        "outputId": "52d3b4ec-a743-4eda-f73b-54d0332d8012"
      },
      "source": [
        "# Creating a new list, where 0.25 is added to each year\n",
        "years_shifted = years+0.25\n",
        "print(years_shifted)\n",
        "\n",
        "# Plotting males_by_yr by year\n",
        "plt.bar(years,males_by_yr,color='lightblue',width=0.25)\n",
        "\n",
        "# Plotting females_by_yr by years_shifted\n",
        "plt.bar(years_shifted,females_by_yr,color='pink',width=0.25)\n"
      ],
      "execution_count": null,
      "outputs": [
        {
          "output_type": "stream",
          "text": [
            "[2008.25 2009.25 2010.25 2011.25 2012.25 2013.25 2014.25 2015.25 2016.25\n",
            " 2017.25]\n"
          ],
          "name": "stdout"
        },
        {
          "output_type": "execute_result",
          "data": {
            "text/plain": [
              "<Container object of 10 artists>"
            ]
          },
          "metadata": {
            "tags": []
          },
          "execution_count": 390
        },
        {
          "output_type": "display_data",
          "data": {
            "text/plain": [
              "<matplotlib.figure.Figure at 0x7fd491cd09e8>"
            ],
            "image/png": "[encoded data removed]"
          },
          "metadata": {
            "tags": [],
            "needs_background": "light"
          }
        }
      ]
    }
  ]
}